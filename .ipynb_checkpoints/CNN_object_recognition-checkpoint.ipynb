{
 "cells": [
  {
   "cell_type": "code",
   "execution_count": 1,
   "metadata": {},
   "outputs": [
    {
     "name": "stderr",
     "output_type": "stream",
     "text": [
      "Using TensorFlow backend.\n"
     ]
    }
   ],
   "source": [
    "import tensorflow as tf\n",
    "\n",
    "from tensorflow import keras\n",
    "from tensorflow.python.client import device_lib\n",
    "\n",
    "import keras.backend.common\n",
    "from keras.backend.common import image_dim_ordering\n",
    "from keras.layers.convolutional import Convolution2D, MaxPooling2D\n",
    "from keras.layers.core import Dense, Dropout, Activation, Flatten\n",
    "\n",
    "from keras import backend\n",
    "from keras.utils import np_utils\n",
    "from keras.callbacks import TensorBoard\n",
    "from keras import regularizers\n",
    "\n",
    "import os\n",
    "import cv2\n",
    "import numpy as np\n",
    "import pandas as pd\n",
    "import matplotlib.pyplot as plt\n",
    "\n",
    "## warnings\n",
    "import warnings\n",
    "warnings.filterwarnings('ignore')\n",
    "\n",
    "from sklearn.utils import shuffle\n",
    "from sklearn.model_selection import train_test_split\n",
    "from sklearn.metrics import classification_report, confusion_matrix, multilabel_confusion_matrix\n",
    "\n",
    "import itertools\n",
    "import gc"
   ]
  },
  {
   "cell_type": "code",
   "execution_count": 2,
   "metadata": {},
   "outputs": [
    {
     "name": "stdout",
     "output_type": "stream",
     "text": [
      "Device mapping:\n",
      "/job:localhost/replica:0/task:0/device:GPU:0 -> device: 0, name: GeForce GTX 1660 Ti with Max-Q Design, pci bus id: 0000:01:00.0, compute capability: 7.5\n",
      "\n"
     ]
    }
   ],
   "source": [
    "sess = tf.compat.v1.Session(config=tf.compat.v1.ConfigProto(log_device_placement=True))"
   ]
  },
  {
   "cell_type": "code",
   "execution_count": 3,
   "metadata": {},
   "outputs": [
    {
     "data": {
      "text/plain": [
       "<tensorflow.python.eager.context._EagerDeviceContext at 0x1aea91c7708>"
      ]
     },
     "execution_count": 3,
     "metadata": {},
     "output_type": "execute_result"
    }
   ],
   "source": [
    "tf.device(\"/GPU:0\")"
   ]
  },
  {
   "cell_type": "code",
   "execution_count": 4,
   "metadata": {},
   "outputs": [
    {
     "name": "stdout",
     "output_type": "stream",
     "text": [
      "[name: \"/device:CPU:0\"\n",
      "device_type: \"CPU\"\n",
      "memory_limit: 268435456\n",
      "locality {\n",
      "}\n",
      "incarnation: 17439565530388323196\n",
      ", name: \"/device:GPU:0\"\n",
      "device_type: \"GPU\"\n",
      "memory_limit: 4986830848\n",
      "locality {\n",
      "  bus_id: 1\n",
      "  links {\n",
      "  }\n",
      "}\n",
      "incarnation: 689649247037382623\n",
      "physical_device_desc: \"device: 0, name: GeForce GTX 1660 Ti with Max-Q Design, pci bus id: 0000:01:00.0, compute capability: 7.5\"\n",
      "]\n"
     ]
    }
   ],
   "source": [
    "\n",
    "print(device_lib.list_local_devices())"
   ]
  },
  {
   "cell_type": "code",
   "execution_count": 5,
   "metadata": {},
   "outputs": [
    {
     "data": {
      "text/plain": [
       "29"
      ]
     },
     "execution_count": 5,
     "metadata": {},
     "output_type": "execute_result"
    }
   ],
   "source": [
    "backend.clear_session()\n",
    "gc.collect()"
   ]
  },
  {
   "cell_type": "code",
   "execution_count": 6,
   "metadata": {},
   "outputs": [
    {
     "name": "stdout",
     "output_type": "stream",
     "text": [
      "C:\\Users\\micka\\Documents\\dev\\Object_recognition\n"
     ]
    }
   ],
   "source": [
    "PATH = os.getcwd()\n",
    "\n",
    "print(PATH)\n",
    "data_path = '../Object Detection/data/'\n",
    "\n",
    "data_dir_list = os.listdir(data_path)"
   ]
  },
  {
   "cell_type": "code",
   "execution_count": 7,
   "metadata": {},
   "outputs": [
    {
     "name": "stdout",
     "output_type": "stream",
     "text": [
      "['bike', 'cars', 'cats', 'dogs', 'flowers', 'horses', 'human']\n"
     ]
    }
   ],
   "source": [
    "print(data_dir_list)"
   ]
  },
  {
   "cell_type": "code",
   "execution_count": 8,
   "metadata": {},
   "outputs": [
    {
     "name": "stdout",
     "output_type": "stream",
     "text": [
      "Loading images of dataset of bike\n",
      "Loading images of dataset of cars\n",
      "Loading images of dataset of cats\n",
      "Loading images of dataset of dogs\n",
      "Loading images of dataset of flowers\n",
      "Loading images of dataset of horses\n",
      "Loading images of dataset of human\n"
     ]
    }
   ],
   "source": [
    "img_rows = 128\n",
    "img_cols = 128\n",
    "num_channel = 1\n",
    "\n",
    "## Define number of classes\n",
    "\n",
    "num_classes = 7\n",
    "img_data_list = []\n",
    "\n",
    "for dataset in data_dir_list:\n",
    "    \n",
    "    img_list = os.listdir(data_path+'/'+dataset)\n",
    "    print('Loading images of dataset of {}'.format(dataset))\n",
    "    \n",
    "    for img in img_list:\n",
    "        #read image\n",
    "        input_img = cv2.imread(data_path +'/'+ dataset+'/'+img)\n",
    "        #convert image to grayscale\n",
    "        input_img = cv2.cvtColor(input_img, cv2.COLOR_BGR2GRAY)\n",
    "        # reshape image\n",
    "        resized_img = cv2.resize(input_img, (128,128))\n",
    "        \n",
    "        img_data_list.append(resized_img)"
   ]
  },
  {
   "cell_type": "code",
   "execution_count": 9,
   "metadata": {},
   "outputs": [
    {
     "name": "stdout",
     "output_type": "stream",
     "text": [
      "(1803, 128, 128)\n"
     ]
    }
   ],
   "source": [
    "img_data = np.array(img_data_list)\n",
    "\n",
    "img_data = img_data.astype('float32')\n",
    "img_data /= 255\n",
    "print(img_data.shape)"
   ]
  },
  {
   "cell_type": "code",
   "execution_count": 10,
   "metadata": {},
   "outputs": [
    {
     "data": {
      "text/plain": [
       "int"
      ]
     },
     "execution_count": 10,
     "metadata": {},
     "output_type": "execute_result"
    }
   ],
   "source": [
    "type(num_channel)"
   ]
  },
  {
   "cell_type": "code",
   "execution_count": 11,
   "metadata": {},
   "outputs": [
    {
     "name": "stdout",
     "output_type": "stream",
     "text": [
      "(1803, 128, 128, 1)\n"
     ]
    }
   ],
   "source": [
    "if num_channel==1:\n",
    "    if image_dim_ordering()=='th': ## if using theano backend shape\n",
    "        img_data= np.expand_dims(img_data, axis=1) \n",
    "        print (img_data.shape)\n",
    "    else: ## if using tensorflow backend shape\n",
    "        img_data= np.expand_dims(img_data, axis=4) \n",
    "        print(img_data.shape)\n",
    "\n",
    "else:\n",
    "    if image_dim_ordering()=='th':\n",
    "        img_data=np.rollaxis(img_data,3,1)\n",
    "        print (img_data.shape)"
   ]
  },
  {
   "cell_type": "code",
   "execution_count": 12,
   "metadata": {},
   "outputs": [],
   "source": [
    "num_classes = 7\n",
    "num_of_samples = img_data.shape[0]\n",
    "labels = np.ones((num_of_samples,),dtype='int64')\n",
    "labels[0:365]=0\n",
    "labels[365:567]=1\n",
    "labels[567:987]=2\n",
    "labels[987:1189]=3\n",
    "labels[1189:1399]=4\n",
    "labels[1399:1601]=5\n",
    "labels[1601:1803]=6\n",
    "names = ['bike', 'cars', 'cats', 'dogs', 'flowers', 'horses', 'human']"
   ]
  },
  {
   "cell_type": "code",
   "execution_count": 13,
   "metadata": {},
   "outputs": [],
   "source": [
    "Y = np_utils.to_categorical(labels, num_classes)"
   ]
  },
  {
   "cell_type": "code",
   "execution_count": 14,
   "metadata": {},
   "outputs": [],
   "source": [
    "x,y = shuffle(img_data, Y, random_state = 1234)\n",
    "\n",
    "X_train, X_test, y_train, y_test = train_test_split(x,y, test_size = 0.2, random_state = 2)"
   ]
  },
  {
   "cell_type": "code",
   "execution_count": 15,
   "metadata": {},
   "outputs": [
    {
     "name": "stdout",
     "output_type": "stream",
     "text": [
      "X_train_shape : (1442, 128, 128, 1)\n",
      "X_test shape : (361, 128, 128, 1)\n"
     ]
    }
   ],
   "source": [
    "print(\"X_train_shape : {}\".format(X_train.shape))\n",
    "print(\"X_test shape : {}\".format(X_test.shape))"
   ]
  },
  {
   "cell_type": "code",
   "execution_count": 16,
   "metadata": {},
   "outputs": [
    {
     "data": {
      "text/plain": [
       "<function matplotlib.pyplot.show(*args, **kw)>"
      ]
     },
     "execution_count": 16,
     "metadata": {},
     "output_type": "execute_result"
    },
    {
     "data": {
      "image/png": "[encoded data removed]",
      "text/plain": [
       "<Figure size 432x288 with 1 Axes>"
      ]
     },
     "metadata": {
      "needs_background": "light"
     },
     "output_type": "display_data"
    }
   ],
   "source": [
    "image = X_train[1203,:].reshape((128,128))\n",
    "plt.imshow(image)\n",
    "plt.show"
   ]
  },
  {
   "cell_type": "code",
   "execution_count": 17,
   "metadata": {},
   "outputs": [],
   "source": [
    "input_dim = X_train[0].shape"
   ]
  },
  {
   "cell_type": "code",
   "execution_count": 18,
   "metadata": {},
   "outputs": [
    {
     "data": {
      "text/plain": [
       "(128, 128, 1)"
      ]
     },
     "execution_count": 18,
     "metadata": {},
     "output_type": "execute_result"
    }
   ],
   "source": [
    "input_dim"
   ]
  },
  {
   "cell_type": "code",
   "execution_count": 19,
   "metadata": {},
   "outputs": [],
   "source": [
    "cnn_model = keras.Sequential()\n",
    "\n",
    "cnn_model.add(Convolution2D(128,3,3, border_mode = 'same', activation = 'relu', input_shape = input_dim, kernel_regularizer = regularizers.l2(1e-6)))\n",
    "cnn_model.add(Convolution2D(128,3,3, activation = 'relu'))\n",
    "cnn_model.add(MaxPooling2D(pool_size = (2,2)))\n",
    "cnn_model.add(Dropout(0.5))\n",
    "\n",
    "cnn_model.add(Flatten())\n",
    "cnn_model.add(Dense(128, activation = 'relu', activity_regularizer = regularizers.l2('1e-4')))\n",
    "cnn_model.add(Dropout(0.5))\n",
    "\n",
    "cnn_model.add(Dense(128, activation = 'relu', activity_regularizer = regularizers.l2('1e-4')))\n",
    "cnn_model.add(Dropout(0.5))\n",
    "cnn_model.add(Dense(num_classes, activation = 'softmax'))\n",
    "    \n",
    "opt = keras.optimizers.Adam(learning_rate=0.0001)\n",
    "cnn_model.compile(loss = 'categorical_crossentropy', optimizer= opt,#'adadelta',\n",
    "                 metrics = [\"accuracy\"])"
   ]
  },
  {
   "cell_type": "code",
   "execution_count": 20,
   "metadata": {},
   "outputs": [
    {
     "name": "stdout",
     "output_type": "stream",
     "text": [
      "Model: \"sequential_1\"\n",
      "_________________________________________________________________\n",
      "Layer (type)                 Output Shape              Param #   \n",
      "=================================================================\n",
      "conv2d_1 (Conv2D)            (None, 128, 128, 128)     1280      \n",
      "_________________________________________________________________\n",
      "conv2d_2 (Conv2D)            (None, 126, 126, 128)     147584    \n",
      "_________________________________________________________________\n",
      "max_pooling2d_1 (MaxPooling2 (None, 63, 63, 128)       0         \n",
      "_________________________________________________________________\n",
      "dropout_1 (Dropout)          (None, 63, 63, 128)       0         \n",
      "_________________________________________________________________\n",
      "flatten_1 (Flatten)          (None, 508032)            0         \n",
      "_________________________________________________________________\n",
      "dense_1 (Dense)              (None, 128)               65028224  \n",
      "_________________________________________________________________\n",
      "dropout_2 (Dropout)          (None, 128)               0         \n",
      "_________________________________________________________________\n",
      "dense_2 (Dense)              (None, 128)               16512     \n",
      "_________________________________________________________________\n",
      "dropout_3 (Dropout)          (None, 128)               0         \n",
      "_________________________________________________________________\n",
      "dense_3 (Dense)              (None, 7)                 903       \n",
      "=================================================================\n",
      "Total params: 65,194,503\n",
      "Trainable params: 65,194,503\n",
      "Non-trainable params: 0\n",
      "_________________________________________________________________\n"
     ]
    }
   ],
   "source": [
    "cnn_model.summary()"
   ]
  },
  {
   "cell_type": "code",
   "execution_count": 21,
   "metadata": {
    "scrolled": true
   },
   "outputs": [
    {
     "name": "stdout",
     "output_type": "stream",
     "text": [
      "Train on 1442 samples, validate on 361 samples\n",
      "Epoch 1/100\n",
      "1442/1442 [==============================] - 13s 9ms/step - loss: 1.9649 - accuracy: 0.1886 - val_loss: 1.9014 - val_accuracy: 0.3269\n",
      "Epoch 2/100\n",
      "1442/1442 [==============================] - 8s 5ms/step - loss: 1.9074 - accuracy: 0.2434 - val_loss: 1.8642 - val_accuracy: 0.2216\n",
      "Epoch 3/100\n",
      "1442/1442 [==============================] - 8s 5ms/step - loss: 1.8663 - accuracy: 0.2857 - val_loss: 1.8265 - val_accuracy: 0.3657\n",
      "Epoch 4/100\n",
      "1442/1442 [==============================] - 8s 5ms/step - loss: 1.8168 - accuracy: 0.3183 - val_loss: 1.7846 - val_accuracy: 0.4044\n",
      "Epoch 5/100\n",
      "1442/1442 [==============================] - 8s 5ms/step - loss: 1.7784 - accuracy: 0.3460 - val_loss: 1.7448 - val_accuracy: 0.3823\n",
      "Epoch 6/100\n",
      "1442/1442 [==============================] - 8s 5ms/step - loss: 1.7432 - accuracy: 0.3745 - val_loss: 1.7391 - val_accuracy: 0.4100\n",
      "Epoch 7/100\n",
      "1442/1442 [==============================] - 8s 6ms/step - loss: 1.7312 - accuracy: 0.3738 - val_loss: 1.7578 - val_accuracy: 0.4765\n",
      "Epoch 8/100\n",
      "1442/1442 [==============================] - 8s 6ms/step - loss: 1.7045 - accuracy: 0.3890 - val_loss: 1.6855 - val_accuracy: 0.4238\n",
      "Epoch 9/100\n",
      "1442/1442 [==============================] - 8s 6ms/step - loss: 1.6589 - accuracy: 0.4237 - val_loss: 1.6855 - val_accuracy: 0.4321\n",
      "Epoch 10/100\n",
      "1442/1442 [==============================] - 8s 6ms/step - loss: 1.6378 - accuracy: 0.4202 - val_loss: 1.6753 - val_accuracy: 0.4238\n",
      "Epoch 11/100\n",
      "1442/1442 [==============================] - 8s 6ms/step - loss: 1.6035 - accuracy: 0.4528 - val_loss: 1.6342 - val_accuracy: 0.4654\n",
      "Epoch 12/100\n",
      "1442/1442 [==============================] - 8s 6ms/step - loss: 1.5759 - accuracy: 0.4521 - val_loss: 1.6283 - val_accuracy: 0.4737\n",
      "Epoch 13/100\n",
      "1442/1442 [==============================] - 8s 6ms/step - loss: 1.5453 - accuracy: 0.4806 - val_loss: 1.6093 - val_accuracy: 0.4543\n",
      "Epoch 14/100\n",
      "1442/1442 [==============================] - 9s 6ms/step - loss: 1.4716 - accuracy: 0.5298 - val_loss: 1.5650 - val_accuracy: 0.4986\n",
      "Epoch 15/100\n",
      "1442/1442 [==============================] - 9s 6ms/step - loss: 1.4260 - accuracy: 0.5277 - val_loss: 1.5322 - val_accuracy: 0.5208\n",
      "Epoch 16/100\n",
      "1442/1442 [==============================] - 9s 6ms/step - loss: 1.3837 - accuracy: 0.5721 - val_loss: 1.5197 - val_accuracy: 0.5346\n",
      "Epoch 17/100\n",
      "1442/1442 [==============================] - 9s 6ms/step - loss: 1.3445 - accuracy: 0.5895 - val_loss: 1.5024 - val_accuracy: 0.5568\n",
      "Epoch 18/100\n",
      "1442/1442 [==============================] - 9s 6ms/step - loss: 1.2951 - accuracy: 0.6207 - val_loss: 1.4859 - val_accuracy: 0.5457\n",
      "Epoch 19/100\n",
      "1442/1442 [==============================] - 9s 6ms/step - loss: 1.2600 - accuracy: 0.6214 - val_loss: 1.4665 - val_accuracy: 0.5429\n",
      "Epoch 20/100\n",
      "1442/1442 [==============================] - 9s 6ms/step - loss: 1.2348 - accuracy: 0.6290 - val_loss: 1.4524 - val_accuracy: 0.5374\n",
      "Epoch 21/100\n",
      "1442/1442 [==============================] - 9s 6ms/step - loss: 1.1757 - accuracy: 0.6574 - val_loss: 1.4185 - val_accuracy: 0.5457\n",
      "Epoch 22/100\n",
      "1442/1442 [==============================] - 9s 6ms/step - loss: 1.1465 - accuracy: 0.6838 - val_loss: 1.4300 - val_accuracy: 0.5596\n",
      "Epoch 23/100\n",
      "1442/1442 [==============================] - 9s 6ms/step - loss: 1.1046 - accuracy: 0.6900 - val_loss: 1.4090 - val_accuracy: 0.5817\n",
      "Epoch 24/100\n",
      "1442/1442 [==============================] - 9s 6ms/step - loss: 1.1003 - accuracy: 0.6879 - val_loss: 1.3954 - val_accuracy: 0.5789\n",
      "Epoch 25/100\n",
      "1442/1442 [==============================] - 9s 6ms/step - loss: 1.0759 - accuracy: 0.6935 - val_loss: 1.3914 - val_accuracy: 0.5623\n",
      "Epoch 26/100\n",
      "1442/1442 [==============================] - 9s 6ms/step - loss: 1.0277 - accuracy: 0.7143 - val_loss: 1.3723 - val_accuracy: 0.5817\n",
      "Epoch 27/100\n",
      "1442/1442 [==============================] - 9s 6ms/step - loss: 1.0104 - accuracy: 0.7282 - val_loss: 1.3772 - val_accuracy: 0.5817\n",
      "Epoch 28/100\n",
      "1442/1442 [==============================] - 9s 6ms/step - loss: 0.9790 - accuracy: 0.7365 - val_loss: 1.3572 - val_accuracy: 0.5706\n",
      "Epoch 29/100\n",
      "1442/1442 [==============================] - 9s 6ms/step - loss: 0.9707 - accuracy: 0.7455 - val_loss: 1.3604 - val_accuracy: 0.5651\n",
      "Epoch 30/100\n",
      "1442/1442 [==============================] - 9s 6ms/step - loss: 0.9351 - accuracy: 0.7614 - val_loss: 1.3501 - val_accuracy: 0.5679\n",
      "Epoch 31/100\n",
      "1442/1442 [==============================] - 9s 6ms/step - loss: 0.9212 - accuracy: 0.7746 - val_loss: 1.3489 - val_accuracy: 0.5651\n",
      "Epoch 32/100\n",
      "1442/1442 [==============================] - 9s 6ms/step - loss: 0.8964 - accuracy: 0.7739 - val_loss: 1.3344 - val_accuracy: 0.5900\n",
      "Epoch 33/100\n",
      "1442/1442 [==============================] - 9s 6ms/step - loss: 0.8806 - accuracy: 0.7885 - val_loss: 1.3392 - val_accuracy: 0.5679\n",
      "Epoch 34/100\n",
      "1442/1442 [==============================] - 9s 6ms/step - loss: 0.8620 - accuracy: 0.7857 - val_loss: 1.3436 - val_accuracy: 0.5651\n",
      "Epoch 35/100\n",
      "1442/1442 [==============================] - 9s 6ms/step - loss: 0.8393 - accuracy: 0.8065 - val_loss: 1.3330 - val_accuracy: 0.5651\n",
      "Epoch 36/100\n",
      "1442/1442 [==============================] - 9s 6ms/step - loss: 0.8314 - accuracy: 0.8155 - val_loss: 1.3278 - val_accuracy: 0.5596\n",
      "Epoch 37/100\n",
      "1442/1442 [==============================] - 9s 6ms/step - loss: 0.8392 - accuracy: 0.8010 - val_loss: 1.3286 - val_accuracy: 0.5928\n",
      "Epoch 38/100\n",
      "1442/1442 [==============================] - 9s 6ms/step - loss: 0.8126 - accuracy: 0.8141 - val_loss: 1.3370 - val_accuracy: 0.5512\n",
      "Epoch 39/100\n",
      "1442/1442 [==============================] - 9s 6ms/step - loss: 0.8279 - accuracy: 0.8010 - val_loss: 1.3343 - val_accuracy: 0.5457\n",
      "Epoch 40/100\n",
      "1442/1442 [==============================] - 9s 6ms/step - loss: 0.8006 - accuracy: 0.8114 - val_loss: 1.3363 - val_accuracy: 0.5596\n",
      "Epoch 41/100\n",
      "1442/1442 [==============================] - 9s 6ms/step - loss: 0.7789 - accuracy: 0.8287 - val_loss: 1.3151 - val_accuracy: 0.5679\n",
      "Epoch 42/100\n",
      "1442/1442 [==============================] - 9s 6ms/step - loss: 0.7571 - accuracy: 0.8308 - val_loss: 1.3097 - val_accuracy: 0.5789\n",
      "Epoch 43/100\n",
      "1442/1442 [==============================] - 9s 6ms/step - loss: 0.7521 - accuracy: 0.8252 - val_loss: 1.2994 - val_accuracy: 0.5623\n",
      "Epoch 44/100\n",
      "1442/1442 [==============================] - 9s 6ms/step - loss: 0.7074 - accuracy: 0.8592 - val_loss: 1.3306 - val_accuracy: 0.6011\n",
      "Epoch 45/100\n",
      "1442/1442 [==============================] - 9s 6ms/step - loss: 0.7356 - accuracy: 0.8398 - val_loss: 1.3008 - val_accuracy: 0.5762\n",
      "Epoch 46/100\n",
      "1442/1442 [==============================] - 9s 6ms/step - loss: 0.7224 - accuracy: 0.8454 - val_loss: 1.3036 - val_accuracy: 0.5789\n",
      "Epoch 47/100\n",
      "1442/1442 [==============================] - 9s 6ms/step - loss: 0.6866 - accuracy: 0.8599 - val_loss: 1.3041 - val_accuracy: 0.5762\n",
      "Epoch 48/100\n",
      "1442/1442 [==============================] - 9s 6ms/step - loss: 0.7026 - accuracy: 0.8488 - val_loss: 1.2999 - val_accuracy: 0.5762\n",
      "Epoch 49/100\n",
      "1442/1442 [==============================] - 9s 6ms/step - loss: 0.6879 - accuracy: 0.8454 - val_loss: 1.3021 - val_accuracy: 0.5817\n",
      "Epoch 50/100\n",
      "1442/1442 [==============================] - 9s 6ms/step - loss: 0.6868 - accuracy: 0.8460 - val_loss: 1.2950 - val_accuracy: 0.5900\n",
      "Epoch 51/100\n",
      "1442/1442 [==============================] - 9s 6ms/step - loss: 0.6959 - accuracy: 0.8398 - val_loss: 1.2974 - val_accuracy: 0.5651\n",
      "Epoch 52/100\n",
      "1442/1442 [==============================] - 9s 6ms/step - loss: 0.6407 - accuracy: 0.8648 - val_loss: 1.2838 - val_accuracy: 0.5762\n",
      "Epoch 53/100\n",
      "1442/1442 [==============================] - 9s 6ms/step - loss: 0.6560 - accuracy: 0.8648 - val_loss: 1.2890 - val_accuracy: 0.5789\n",
      "Epoch 54/100\n",
      "1442/1442 [==============================] - 9s 6ms/step - loss: 0.6123 - accuracy: 0.8793 - val_loss: 1.2907 - val_accuracy: 0.5845\n",
      "Epoch 55/100\n",
      "1442/1442 [==============================] - 9s 6ms/step - loss: 0.6307 - accuracy: 0.8717 - val_loss: 1.2947 - val_accuracy: 0.5734\n",
      "Epoch 56/100\n",
      "1442/1442 [==============================] - 9s 6ms/step - loss: 0.6279 - accuracy: 0.8662 - val_loss: 1.2953 - val_accuracy: 0.5734\n"
     ]
    },
    {
     "name": "stdout",
     "output_type": "stream",
     "text": [
      "Epoch 57/100\n",
      "1442/1442 [==============================] - 9s 6ms/step - loss: 0.6179 - accuracy: 0.8752 - val_loss: 1.2758 - val_accuracy: 0.5789\n",
      "Epoch 58/100\n",
      "1442/1442 [==============================] - 9s 6ms/step - loss: 0.6416 - accuracy: 0.8592 - val_loss: 1.2698 - val_accuracy: 0.5679\n",
      "Epoch 59/100\n",
      "1442/1442 [==============================] - 9s 6ms/step - loss: 0.6019 - accuracy: 0.8856 - val_loss: 1.2810 - val_accuracy: 0.5900\n",
      "Epoch 60/100\n",
      "1442/1442 [==============================] - 9s 6ms/step - loss: 0.5841 - accuracy: 0.8835 - val_loss: 1.2990 - val_accuracy: 0.5651\n",
      "Epoch 61/100\n",
      "1442/1442 [==============================] - 9s 6ms/step - loss: 0.5817 - accuracy: 0.8870 - val_loss: 1.2805 - val_accuracy: 0.5679\n",
      "Epoch 62/100\n",
      "1442/1442 [==============================] - 9s 6ms/step - loss: 0.5733 - accuracy: 0.8911 - val_loss: 1.2948 - val_accuracy: 0.5789\n",
      "Epoch 63/100\n",
      "1442/1442 [==============================] - 9s 6ms/step - loss: 0.5614 - accuracy: 0.8946 - val_loss: 1.2843 - val_accuracy: 0.5706\n",
      "Epoch 64/100\n",
      "1442/1442 [==============================] - 9s 6ms/step - loss: 0.5861 - accuracy: 0.8745 - val_loss: 1.2694 - val_accuracy: 0.5845\n",
      "Epoch 65/100\n",
      "1442/1442 [==============================] - 9s 6ms/step - loss: 0.5686 - accuracy: 0.8883 - val_loss: 1.2631 - val_accuracy: 0.5845\n",
      "Epoch 66/100\n",
      "1442/1442 [==============================] - 9s 6ms/step - loss: 0.5799 - accuracy: 0.8745 - val_loss: 1.2689 - val_accuracy: 0.5651\n",
      "Epoch 67/100\n",
      "1442/1442 [==============================] - 9s 6ms/step - loss: 0.5650 - accuracy: 0.8863 - val_loss: 1.2633 - val_accuracy: 0.5734\n",
      "Epoch 68/100\n",
      "1442/1442 [==============================] - 9s 6ms/step - loss: 0.5476 - accuracy: 0.8960 - val_loss: 1.2786 - val_accuracy: 0.5679\n",
      "Epoch 69/100\n",
      "1442/1442 [==============================] - 9s 6ms/step - loss: 0.5559 - accuracy: 0.8890 - val_loss: 1.2725 - val_accuracy: 0.5817\n",
      "Epoch 70/100\n",
      "1442/1442 [==============================] - 9s 6ms/step - loss: 0.5514 - accuracy: 0.8870 - val_loss: 1.2893 - val_accuracy: 0.5651\n",
      "Epoch 71/100\n",
      "1442/1442 [==============================] - 9s 6ms/step - loss: 0.5727 - accuracy: 0.8759 - val_loss: 1.2769 - val_accuracy: 0.5540\n",
      "Epoch 72/100\n",
      "1442/1442 [==============================] - 9s 6ms/step - loss: 0.5345 - accuracy: 0.8946 - val_loss: 1.2632 - val_accuracy: 0.5706\n",
      "Epoch 73/100\n",
      "1442/1442 [==============================] - 9s 6ms/step - loss: 0.5554 - accuracy: 0.8849 - val_loss: 1.2746 - val_accuracy: 0.5568\n",
      "Epoch 74/100\n",
      "1442/1442 [==============================] - 9s 6ms/step - loss: 0.5315 - accuracy: 0.8988 - val_loss: 1.2616 - val_accuracy: 0.5651\n",
      "Epoch 75/100\n",
      "1442/1442 [==============================] - 9s 6ms/step - loss: 0.5511 - accuracy: 0.8870 - val_loss: 1.2577 - val_accuracy: 0.5762\n",
      "Epoch 76/100\n",
      "1442/1442 [==============================] - 9s 6ms/step - loss: 0.5257 - accuracy: 0.8960 - val_loss: 1.2594 - val_accuracy: 0.5762\n",
      "Epoch 77/100\n",
      "1442/1442 [==============================] - 9s 6ms/step - loss: 0.5215 - accuracy: 0.8981 - val_loss: 1.2564 - val_accuracy: 0.5845\n",
      "Epoch 78/100\n",
      "1442/1442 [==============================] - 9s 6ms/step - loss: 0.5149 - accuracy: 0.9050 - val_loss: 1.2485 - val_accuracy: 0.6094\n",
      "Epoch 79/100\n",
      "1442/1442 [==============================] - 9s 6ms/step - loss: 0.5056 - accuracy: 0.9078 - val_loss: 1.2582 - val_accuracy: 0.5845\n",
      "Epoch 80/100\n",
      "1442/1442 [==============================] - 9s 6ms/step - loss: 0.5235 - accuracy: 0.8960 - val_loss: 1.2703 - val_accuracy: 0.5706\n",
      "Epoch 81/100\n",
      "1442/1442 [==============================] - 9s 6ms/step - loss: 0.4827 - accuracy: 0.9105 - val_loss: 1.2656 - val_accuracy: 0.5706\n",
      "Epoch 82/100\n",
      "1442/1442 [==============================] - 9s 6ms/step - loss: 0.4938 - accuracy: 0.9092 - val_loss: 1.2550 - val_accuracy: 0.5651\n",
      "Epoch 83/100\n",
      "1442/1442 [==============================] - 9s 6ms/step - loss: 0.4959 - accuracy: 0.9022 - val_loss: 1.2461 - val_accuracy: 0.5679\n",
      "Epoch 84/100\n",
      "1442/1442 [==============================] - 9s 6ms/step - loss: 0.4932 - accuracy: 0.9001 - val_loss: 1.2507 - val_accuracy: 0.5845\n",
      "Epoch 85/100\n",
      "1442/1442 [==============================] - 9s 6ms/step - loss: 0.4911 - accuracy: 0.9050 - val_loss: 1.2574 - val_accuracy: 0.5762\n",
      "Epoch 86/100\n",
      "1442/1442 [==============================] - 9s 6ms/step - loss: 0.4980 - accuracy: 0.9001 - val_loss: 1.2577 - val_accuracy: 0.5596\n",
      "Epoch 87/100\n",
      "1442/1442 [==============================] - 9s 6ms/step - loss: 0.5111 - accuracy: 0.8925 - val_loss: 1.2643 - val_accuracy: 0.5789\n",
      "Epoch 88/100\n",
      "1442/1442 [==============================] - 9s 6ms/step - loss: 0.4962 - accuracy: 0.9078 - val_loss: 1.2559 - val_accuracy: 0.5596\n",
      "Epoch 89/100\n",
      "1442/1442 [==============================] - 9s 6ms/step - loss: 0.4695 - accuracy: 0.9098 - val_loss: 1.2607 - val_accuracy: 0.5706\n",
      "Epoch 90/100\n",
      "1442/1442 [==============================] - 9s 6ms/step - loss: 0.5053 - accuracy: 0.8918 - val_loss: 1.2452 - val_accuracy: 0.5734\n",
      "Epoch 91/100\n",
      "1442/1442 [==============================] - 9s 6ms/step - loss: 0.4955 - accuracy: 0.8953 - val_loss: 1.2580 - val_accuracy: 0.5706\n",
      "Epoch 92/100\n",
      "1442/1442 [==============================] - 9s 6ms/step - loss: 0.4596 - accuracy: 0.9071 - val_loss: 1.2524 - val_accuracy: 0.5928\n",
      "Epoch 93/100\n",
      "1442/1442 [==============================] - 9s 6ms/step - loss: 0.5014 - accuracy: 0.8932 - val_loss: 1.2539 - val_accuracy: 0.5596\n",
      "Epoch 94/100\n",
      "1442/1442 [==============================] - 9s 6ms/step - loss: 0.4695 - accuracy: 0.9036 - val_loss: 1.2539 - val_accuracy: 0.5679\n",
      "Epoch 95/100\n",
      "1442/1442 [==============================] - 9s 6ms/step - loss: 0.4804 - accuracy: 0.9043 - val_loss: 1.2600 - val_accuracy: 0.5762\n",
      "Epoch 96/100\n",
      "1442/1442 [==============================] - 9s 6ms/step - loss: 0.4661 - accuracy: 0.9154 - val_loss: 1.2443 - val_accuracy: 0.6066\n",
      "Epoch 97/100\n",
      "1442/1442 [==============================] - 9s 6ms/step - loss: 0.4609 - accuracy: 0.9161 - val_loss: 1.2357 - val_accuracy: 0.5928\n",
      "Epoch 98/100\n",
      "1442/1442 [==============================] - 9s 6ms/step - loss: 0.4757 - accuracy: 0.9112 - val_loss: 1.2200 - val_accuracy: 0.5706\n",
      "Epoch 99/100\n",
      "1442/1442 [==============================] - 9s 6ms/step - loss: 0.4516 - accuracy: 0.9251 - val_loss: 1.2391 - val_accuracy: 0.5956\n",
      "Epoch 100/100\n",
      "1442/1442 [==============================] - 9s 6ms/step - loss: 0.4539 - accuracy: 0.9168 - val_loss: 1.2292 - val_accuracy: 0.5817\n"
     ]
    }
   ],
   "source": [
    "with tf.device(\"/GPU:0\"):\n",
    "    num_epoch = 100\n",
    "\n",
    "\n",
    "    history = cnn_model.fit(X_train, y_train, batch_size=64, \n",
    "                           epochs = num_epoch, verbose = True,\n",
    "                           validation_data=(X_test, y_test))\n",
    "\n",
    "    #print(history.history)\n",
    "    train_loss = history.history['loss']\n",
    "    val_loss = history.history['val_loss']\n",
    "    train_acc = history.history['accuracy']\n",
    "    val_acc = history.history['val_accuracy']\n",
    "\n",
    "\n",
    "    xc = range(num_epoch)"
   ]
  },
  {
   "cell_type": "code",
   "execution_count": null,
   "metadata": {},
   "outputs": [],
   "source": [
    "plt.figure(1, figsize=(10,5))\n",
    "plt.plot(xc, train_loss)\n",
    "plt.plot(xc, val_loss)\n",
    "plt.xlabel('Number Epochs')\n",
    "plt.ylabel('Loss')\n",
    "plt.title('Train vs Validation Loss')\n",
    "plt.grid(True)\n",
    "\n",
    "plt.legend(['Train Loss', 'Validation Loss'])\n",
    "plt.style.use(['classic'])"
   ]
  },
  {
   "cell_type": "code",
   "execution_count": null,
   "metadata": {},
   "outputs": [],
   "source": [
    "plt.figure(2,figsize=(10,5))\n",
    "plt.plot(xc,train_acc)\n",
    "plt.plot(xc,val_acc)\n",
    "plt.xlabel('Number of Epochs')\n",
    "plt.ylabel('Accuracy')\n",
    "plt.title('Train Accuracy vs Validation Accuracy')\n",
    "plt.grid(True)\n",
    "plt.legend(['Train Accuracy','Validation Accuracy'],loc=4)\n",
    "plt.style.use(['classic'])"
   ]
  },
  {
   "cell_type": "code",
   "execution_count": null,
   "metadata": {},
   "outputs": [],
   "source": [
    "score = cnn_model.evaluate(X_test, y_test, verbose=True)\n",
    "print('Test Loss:', score[0])\n",
    "print('Test Accuracy:', score[1])"
   ]
  },
  {
   "cell_type": "code",
   "execution_count": null,
   "metadata": {},
   "outputs": [],
   "source": [
    "test_image = X_test[0:1]\n",
    "print (test_image.shape)\n",
    "print(cnn_model.predict(test_image))\n",
    "print(cnn_model.predict_classes(test_image))\n",
    "print(y_test[0:1])"
   ]
  },
  {
   "cell_type": "code",
   "execution_count": null,
   "metadata": {},
   "outputs": [],
   "source": [
    "image = test_image.reshape((128,128))\n",
    "plt.imshow(image)\n",
    "plt.show()"
   ]
  },
  {
   "cell_type": "code",
   "execution_count": 25,
   "metadata": {},
   "outputs": [],
   "source": [
    "y_pred = cnn_model.predict(X_test)"
   ]
  },
  {
   "cell_type": "code",
   "execution_count": 28,
   "metadata": {},
   "outputs": [],
   "source": [
    "y_pred = (y_pred > 0.5) "
   ]
  },
  {
   "cell_type": "code",
   "execution_count": 30,
   "metadata": {},
   "outputs": [
    {
     "name": "stdout",
     "output_type": "stream",
     "text": [
      "              precision    recall  f1-score   support\n",
      "\n",
      "        bike       0.81      0.64      0.71        72\n",
      "        cars       0.38      0.14      0.20        36\n",
      "        cats       0.53      0.33      0.41        99\n",
      "        dogs       0.50      0.05      0.09        40\n",
      "     flowers       0.85      0.67      0.75        33\n",
      "      horses       0.89      0.42      0.58        40\n",
      "       human       0.90      0.44      0.59        41\n",
      "\n",
      "   micro avg       0.71      0.40      0.51       361\n",
      "   macro avg       0.69      0.38      0.48       361\n",
      "weighted avg       0.68      0.40      0.48       361\n",
      " samples avg       0.40      0.40      0.40       361\n",
      "\n"
     ]
    }
   ],
   "source": [
    "print(classification_report(y_test, y_pred, target_names = names))"
   ]
  },
  {
   "cell_type": "code",
   "execution_count": 38,
   "metadata": {},
   "outputs": [
    {
     "data": {
      "text/plain": [
       "array([[[278,  11],\n",
       "        [ 26,  46]],\n",
       "\n",
       "       [[317,   8],\n",
       "        [ 31,   5]],\n",
       "\n",
       "       [[233,  29],\n",
       "        [ 66,  33]],\n",
       "\n",
       "       [[319,   2],\n",
       "        [ 38,   2]],\n",
       "\n",
       "       [[324,   4],\n",
       "        [ 11,  22]],\n",
       "\n",
       "       [[319,   2],\n",
       "        [ 23,  17]],\n",
       "\n",
       "       [[318,   2],\n",
       "        [ 23,  18]]], dtype=int64)"
      ]
     },
     "execution_count": 38,
     "metadata": {},
     "output_type": "execute_result"
    }
   ],
   "source": [
    "multilabel_confusion_matrix(y_test, y_pred)"
   ]
  }
 ],
 "metadata": {
  "kernelspec": {
   "display_name": "Python 3",
   "language": "python",
   "name": "python3"
  },
  "language_info": {
   "codemirror_mode": {
    "name": "ipython",
    "version": 3
   },
   "file_extension": ".py",
   "mimetype": "text/x-python",
   "name": "python",
   "nbconvert_exporter": "python",
   "pygments_lexer": "ipython3",
   "version": "3.7.4"
  }
 },
 "nbformat": 4,
 "nbformat_minor": 2
}
